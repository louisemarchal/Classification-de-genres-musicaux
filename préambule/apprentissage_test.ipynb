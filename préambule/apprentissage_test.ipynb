{
 "cells": [
  {
   "cell_type": "markdown",
   "metadata": {},
   "source": [
    "# Lancement des commandes SVM light"
   ]
  },
  {
   "cell_type": "markdown",
   "metadata": {},
   "source": [
    "Relancer le kernel à chaque éxécution de ce fichier"
   ]
  },
  {
   "cell_type": "code",
   "execution_count": 1,
   "metadata": {
    "collapsed": false
   },
   "outputs": [],
   "source": [
    "import os\n",
    "import shutil\n",
    "import matplotlib.pyplot as plt\n",
    "import numpy as np\n",
    "os.chdir(os.getcwd() + \"\\\\SVMlight\")  \n"
   ]
  },
  {
   "cell_type": "code",
   "execution_count": 2,
   "metadata": {
    "collapsed": false
   },
   "outputs": [
    {
     "data": {
      "text/plain": [
       "'C:\\\\Users\\\\louis\\\\Desktop\\\\Louise\\\\PLDAC\\\\SVMlight\\\\SVMlight'"
      ]
     },
     "execution_count": 2,
     "metadata": {},
     "output_type": "execute_result"
    }
   ],
   "source": [
    "os.getcwd() + \"\\\\SVMlight\""
   ]
  },
  {
   "cell_type": "code",
   "execution_count": 3,
   "metadata": {
    "collapsed": true
   },
   "outputs": [],
   "source": [
    "c_apps = \"../BD/apprentissage\"\n",
    "c_tests = \"../BD/test\"\n",
    "c_preds = \"../BD/prediction\"\n",
    "c_mods = \"../BD/modele\"\n",
    "nb_class = 3"
   ]
  },
  {
   "cell_type": "code",
   "execution_count": 4,
   "metadata": {
    "collapsed": false
   },
   "outputs": [],
   "source": [
    "shutil.rmtree(\"../BD/modele\")\n",
    "shutil.rmtree(\"../BD/prediction\")\n",
    "\n",
    "os.makedirs(\"../BD/modele\")\n",
    "os.makedirs(\"../BD/prediction\")"
   ]
  },
  {
   "cell_type": "code",
   "execution_count": 5,
   "metadata": {
    "collapsed": false
   },
   "outputs": [],
   "source": [
    "def ecriture_fichier_tampon(f_entree,f_sortie, classe):\n",
    "    \"\"\"String*String*int\n",
    "       f_entree : nom du fichier en entrée\n",
    "       f_sortie : nom du fichier en sortie\n",
    "       classe : classe que l'on veut apprendre\n",
    "    Cette fonction ecrit un fichier tampon à partir d'un fichier d'apprentissage ou de test. Pour chaque données de f_entree,\n",
    "    si le label est égal a classe alors le label devient 1 dans f_sortie sinon il devient -1. \"\"\"\n",
    "    \n",
    "    os.remove(f_sortie)\n",
    "    fichier = open(f_sortie, \"w\")\n",
    "    sortie=\"\"\n",
    "    with open(f_entree, \"r\") as f:\n",
    "        for line in f.readlines():\n",
    "            if(int(line[0])==classe):\n",
    "                sortie+=\"1\"+line[1:]\n",
    "            else:\n",
    "                sortie+=\"-1\"+line[1:]\n",
    "        fichier.write(sortie)\n"
   ]
  },
  {
   "cell_type": "code",
   "execution_count": 6,
   "metadata": {
    "collapsed": false
   },
   "outputs": [],
   "source": [
    "# ecriture_fichier_tampon(c_apps+\"/apprentissage0.txt\",\"../essaie0.txt\",1)"
   ]
  },
  {
   "cell_type": "code",
   "execution_count": 7,
   "metadata": {
    "collapsed": false
   },
   "outputs": [],
   "source": [
    "def lancement_apprentissage( c_app, c_mod, classe, option=\"\"):\n",
    "    \"\"\"HYP : c_app existe\n",
    "             c_app est le chemin relatif depuis SVMlight\n",
    "             c_mod est le chemin relatif depuis SVMlight\n",
    "       c_app est le chemin du fichier d'apprentissage\n",
    "       c_mod est le chemin du fichier de sortie de la commande svm_learn : le modèle\n",
    "       option : option à passer à la commande\n",
    "       classe : la classe que l'on veut apprendre\n",
    "       Cette fonction réalise un apprentissage\"\"\"\n",
    "    \n",
    "    f_tmp=\"../tmp_app.txt\"\n",
    "    ecriture_fichier_tampon( c_app , f_tmp , classe)\n",
    "    tmp=os.popen(\"svm_learn \" + option + \" \" + f_tmp+ \" \" + c_mod)\n",
    "    tmp.read()"
   ]
  },
  {
   "cell_type": "code",
   "execution_count": 8,
   "metadata": {
    "collapsed": true
   },
   "outputs": [],
   "source": [
    "def lancement_test(c_test, c_mod, c_predict, classe, option=\"\"):\n",
    "    \"\"\"HYP : c_test existe\n",
    "             c_test est le chemin relatif de la base test depuis SVMlight\n",
    "             c_mod est le chemin relatif du modele depuis SVMlight\n",
    "             c_predict est le chemin relatif du fichier résultant de la commande svm_classify depuis SVMlight\n",
    "       option : option à passer à la commande \n",
    "       classe : la classe que l'on veut apprendre\n",
    "       Cette fonction réalise une prédiction\"\"\"\n",
    "    \n",
    "    f_tmp=\"../tmp_test.txt\"\n",
    "    ecriture_fichier_tampon(c_test,f_tmp,classe)\n",
    "    tmp=os.popen(\"svm_classify \" + option + \" \" + f_tmp + \" \" + c_mod + \" \" + c_predict)\n",
    "    tmp.read()"
   ]
  },
  {
   "cell_type": "code",
   "execution_count": 9,
   "metadata": {
    "collapsed": false
   },
   "outputs": [],
   "source": [
    "def evaluation(c_prediction, c_test, classe):\n",
    "    \"\"\"HYP : c_prediction est le chemin relatif d'un prédiction depuis SVMlight\n",
    "             c_test est le chemin relatif d'une base de test correspondant à la prédiction faite depuis SVM\n",
    "             classe : la classe que l'on veut apprendre\n",
    "       Cette fonction calcul score d'un modèle\"\"\"\n",
    "    \n",
    "    f_tmp=\"../tmp.txt\"\n",
    "    ecriture_fichier_tampon(c_test,f_tmp,classe)\n",
    "    #tableau de prediction\n",
    "    p = []\n",
    "    with open(c_prediction, \"r\") as f:\n",
    "        for line in f.readlines():\n",
    "            if(float(line[:-1]) > 0):\n",
    "                p.append(1)\n",
    "            elif(float(line[:-1]) < 0):\n",
    "                p.append(-1)\n",
    "            else:\n",
    "                p.append(0)\n",
    "    #tableau des labels de test\n",
    "    lab = []\n",
    "    with open(f_tmp, \"r\") as f:\n",
    "        for line in f.readlines():\n",
    "            tmp=line[0:2] \n",
    "            if(tmp==\"\\n\"): #la dernière ligne lue commence par \\n\n",
    "                lab.append(0)\n",
    "            else:\n",
    "                lab.append(int(tmp))     \n",
    "    #scoring\n",
    "    scor = 0\n",
    "    for i in range(len(p)):\n",
    "        if(p[i]==lab[i]):\n",
    "            scor += 1\n",
    "    return scor*1.0/len(p)"
   ]
  },
  {
   "cell_type": "code",
   "execution_count": 10,
   "metadata": {
    "collapsed": false
   },
   "outputs": [],
   "source": [
    "def all_lancement(c_tests, c_apps, c_modeles, c_preds, classe, option_a=\"\", option_t=\"\"):\n",
    "    \"\"\"HYP : c_tests existe\n",
    "             c_apps existe\n",
    "             c_modeles existe\n",
    "             c_preds existe\n",
    "             c_tests est le chemin relatif contenant toutes les bases de tests\n",
    "             c_apps est le chemin relatif contenant toutes les bases d'apprentissage\n",
    "             classe est la classe que l'on veut apprendre\n",
    "             c_modeles est le chemin relatif contenant les futurs modèles\n",
    "             c_preds est le chemin relatif contenant les futurs prédictions\n",
    "       Cette fonction créé tous les modèles et toutes les prédictions associés à chaque apprentissage et test\"\"\"\n",
    "    \n",
    "    fichier_app = os.listdir(c_apps)\n",
    "    fichier_test = os.listdir(c_tests)\n",
    "    scor_te = []\n",
    "    scor_tr = []\n",
    "    for i in range(len(fichier_app)):\n",
    "        lancement_apprentissage(c_apps + \"/\" + fichier_app[i], c_modeles + \"/modele\" + str(i) + \".txt\", classe, option_a)\n",
    "        lancement_test(c_tests + \"/\" + fichier_test[i], c_modeles + \"/modele\" + str(i) + \".txt\",\\\n",
    "                       c_preds + \"/prediction\" + str(i) + \".txt\", classe, option_t)\n",
    "        lancement_test(c_apps + \"/\" + fichier_app[i], c_modeles + \"/modele\" + str(i) + \".txt\", \\\n",
    "                      c_preds + \"/prediction_train\" + str(i) + \".txt\", classe, option_t)\n",
    "        scor_te.append(evaluation(c_preds + \"/prediction\" + str(i) + \".txt\", c_tests + \"/\" + fichier_test[i], classe))\n",
    "        scor_tr.append(evaluation(c_preds + \"/prediction_train\" + str(i) + \".txt\", c_apps + \"/\" + fichier_app[i], classe))\n",
    "    return scor_te, scor_tr"
   ]
  },
  {
   "cell_type": "code",
   "execution_count": 11,
   "metadata": {
    "collapsed": true
   },
   "outputs": [],
   "source": [
    "def test_all_class(c_tests, c_apps, c_mods, c_preds, nb_class, option_a=\"\",option_t=\"\"):\n",
    "    \"\"\"HYP : c_tests existe\n",
    "             c_apps existe\n",
    "             c_modeles existe\n",
    "             c_preds existe\n",
    "             c_tests est le chemin relatif contenant toutes les bases de tests\n",
    "             c_apps est le chemin relatif contenant toutes les bases d'apprentissage\n",
    "             c_modeles est le chemin relatif contenant les futurs modèles\n",
    "             c_preds est le chemin relatif contenant les futurs prédictions\n",
    "             option_a option d'apprentissage\n",
    "        Cette fonction réalise un apprentissage et un test sur toute la base données en fontion de la classe que l'on \n",
    "        souhaite apprendre\"\"\"\n",
    "    res_te = []\n",
    "    res_tr = []\n",
    "    for i in range(1, nb_class+1):\n",
    "        s_te, s_tr = all_lancement(c_tests, c_apps, c_mods, c_preds, i, option_a,option_t)\n",
    "        print(\"train du label \", i, \"score \", s_tr)\n",
    "        print(\"test du label \", i, \"score \", s_te)\n",
    "        res_te.append(s_te)\n",
    "        res_tr.append(s_tr)\n",
    "    return np.array(res_te), np.array(s_tr)"
   ]
  },
  {
   "cell_type": "code",
   "execution_count": 12,
   "metadata": {
    "collapsed": false,
    "scrolled": true
   },
   "outputs": [],
   "source": [
    "#test_all_class(c_tests, c_apps, c_mods, c_preds, nb_class)"
   ]
  },
  {
   "cell_type": "markdown",
   "metadata": {},
   "source": [
    "test avec option -C\n",
    "plus C est grand plus il y a du sur-apprentissage et inversement"
   ]
  },
  {
   "cell_type": "code",
   "execution_count": 13,
   "metadata": {
    "collapsed": false
   },
   "outputs": [],
   "source": [
    "def graph_erreur(c_tests, c_apps, c_mods, c_preds, nb_class,pas, mini, maxi, nom_option_a=\"\", option_k=\"\", option_t=\"\"):\n",
    "    \"\"\"trace un graph contenant le score de bonnes prédiction en train et en test en fonction des valeurs de C\"\"\"\n",
    "    res_te = []\n",
    "    res_tr = []\n",
    "    c = 0.01\n",
    "    maxi = c+0.01\n",
    "    x = []\n",
    "    while (c<maxi):\n",
    "        print(\"\\n\"+nom_option_a+\" \"+str(c))\n",
    "        te, tr = test_all_class(c_tests, c_apps, c_mods, c_preds, nb_class, nom_option_a+\" \"+str(c)+\" \"+option_k, option_t)\n",
    "        te = te.flatten()\n",
    "        tr = tr.flatten()\n",
    "        res_te.append(np.mean(te))\n",
    "        res_tr.append(np.mean(tr))\n",
    "        x.append(c)\n",
    "        c = c*pas\n",
    "    plt.plot(x, res_te, 'r-o', label=\"test\")\n",
    "    plt.plot(x, res_tr, 'b-o', label=\"train\")\n",
    "    plt.legend()\n",
    "    plt.show()\n",
    "    return np.mean(res_tr), np.mean(res_te)"
   ]
  },
  {
   "cell_type": "markdown",
   "metadata": {},
   "source": [
    "test de l'option -t qui modifie le kernel utilisé\n",
    "0 : linéaire\t(valeur par défaut)\n",
    "1 : polynomiale\t(s a*b+c)^d\n",
    "2 : fonction radial basique\texp(-gamma ||a-b||^2)\n",
    "3 : sinusoïde \ttanh(s a*b+c)"
   ]
  },
  {
   "cell_type": "code",
   "execution_count": 14,
   "metadata": {
    "collapsed": false
   },
   "outputs": [
    {
     "name": "stdout",
     "output_type": "stream",
     "text": [
      "\n",
      "-c 0.01\n",
      "train du label  1 score  [1.0, 1.0, 1.0, 1.0, 1.0, 1.0, 1.0, 1.0, 1.0, 1.0]\n",
      "test du label  1 score  [0.6714285714285714, 0.7142857142857143, 0.6571428571428571, 0.7, 0.5857142857142857, 0.6857142857142857, 0.7142857142857143, 0.6571428571428571, 0.7142857142857143, 0.6285714285714286]\n",
      "train du label  2 score  [1.0, 1.0, 1.0, 1.0, 1.0, 1.0, 1.0, 1.0, 1.0, 1.0]\n",
      "test du label  2 score  [0.5428571428571428, 0.6714285714285714, 0.6, 0.5142857142857142, 0.5714285714285714, 0.6857142857142857, 0.6714285714285714, 0.6857142857142857, 0.5857142857142857, 0.6714285714285714]\n",
      "train du label  3 score  [1.0, 1.0, 1.0, 1.0, 1.0, 1.0, 1.0, 1.0, 1.0, 1.0]\n",
      "test du label  3 score  [0.7428571428571429, 0.8, 0.8142857142857143, 0.8, 0.7285714285714285, 0.8142857142857143, 0.7428571428571429, 0.7857142857142857, 0.8142857142857143, 0.8142857142857143]\n"
     ]
    },
    {
     "data": {
      "image/png": "[encoded data removed]",
      "text/plain": [
       "<matplotlib.figure.Figure at 0x1fd8d49a9e8>"
      ]
     },
     "metadata": {},
     "output_type": "display_data"
    },
    {
     "data": {
      "text/plain": [
       "(1.0, 0.69285714285714273)"
      ]
     },
     "execution_count": 14,
     "metadata": {},
     "output_type": "execute_result"
    }
   ],
   "source": [
    "graph_erreur(c_tests, c_apps, c_mods, c_preds, nb_class, 10, 0.0001, 10000, \"-c\")"
   ]
  },
  {
   "cell_type": "code",
   "execution_count": 15,
   "metadata": {
    "collapsed": false
   },
   "outputs": [
    {
     "name": "stdout",
     "output_type": "stream",
     "text": [
      "\n",
      "-c 0.01\n",
      "train du label  1 score  [1.0, 1.0, 1.0, 1.0, 1.0, 1.0, 1.0, 1.0, 1.0, 1.0]\n",
      "test du label  1 score  [0.8, 0.8142857142857143, 0.7142857142857143, 0.5857142857142857, 0.6428571428571429, 0.6857142857142857, 0.7714285714285715, 0.6142857142857143, 0.7571428571428571, 0.7714285714285715]\n",
      "train du label  2 score  [1.0, 1.0, 1.0, 1.0, 1.0, 1.0, 1.0, 1.0, 1.0, 1.0]\n",
      "test du label  2 score  [0.6571428571428571, 0.6857142857142857, 0.7285714285714285, 0.7, 0.6714285714285714, 0.7428571428571429, 0.7428571428571429, 0.6571428571428571, 0.7, 0.6857142857142857]\n",
      "train du label  3 score  [1.0, 1.0, 1.0, 1.0, 1.0, 1.0, 1.0, 1.0, 1.0, 1.0]\n",
      "test du label  3 score  [0.8142857142857143, 0.7857142857142857, 0.9, 0.8857142857142857, 0.8857142857142857, 0.8714285714285714, 0.7428571428571429, 0.9, 0.9, 0.8571428571428571]\n"
     ]
    },
    {
     "data": {
      "image/png": "[encoded data removed]",
      "text/plain": [
       "<matplotlib.figure.Figure at 0x1fd8e72fa90>"
      ]
     },
     "metadata": {},
     "output_type": "display_data"
    },
    {
     "data": {
      "text/plain": [
       "(1.0, 0.75571428571428556)"
      ]
     },
     "execution_count": 15,
     "metadata": {},
     "output_type": "execute_result"
    }
   ],
   "source": [
    "graph_erreur(c_tests, c_apps, c_mods, c_preds, nb_class, 10, 0.0001, 10000, \"-c\", \"-t 1\")"
   ]
  },
  {
   "cell_type": "code",
   "execution_count": 14,
   "metadata": {
    "collapsed": false
   },
   "outputs": [
    {
     "name": "stdout",
     "output_type": "stream",
     "text": [
      "\n",
      "-c 0.01\n",
      "train du label  1 score  [0.6428571428571429, 0.6412698412698413, 0.6396825396825396, 0.6523809523809524, 0.6476190476190476, 0.6412698412698413, 0.6428571428571429, 0.6365079365079365, 0.6492063492063492, 0.6492063492063492]\n",
      "test du label  1 score  [0.6571428571428571, 0.6714285714285714, 0.6857142857142857, 0.5714285714285714, 0.6142857142857143, 0.6714285714285714, 0.6571428571428571, 0.7142857142857143, 0.6, 0.6]\n",
      "train du label  2 score  [0.6904761904761905, 0.692063492063492, 0.6968253968253968, 0.6873015873015873, 0.6904761904761905, 0.7015873015873015, 0.6952380952380952, 0.7095238095238096, 0.6825396825396826, 0.6968253968253968]\n",
      "test du label  2 score  [0.7285714285714285, 0.7142857142857143, 0.6714285714285714, 0.7571428571428571, 0.7285714285714285, 0.6285714285714286, 0.6857142857142857, 0.5571428571428572, 0.8, 0.6714285714285714]\n",
      "train du label  3 score  [0.6666666666666666, 0.6666666666666666, 0.6634920634920635, 0.6603174603174603, 0.6619047619047619, 0.6571428571428571, 0.6619047619047619, 0.653968253968254, 0.6682539682539682, 0.653968253968254]\n",
      "test du label  3 score  [0.6142857142857143, 0.6142857142857143, 0.6428571428571429, 0.6714285714285714, 0.6571428571428571, 0.7, 0.6571428571428571, 0.7285714285714285, 0.6, 0.7285714285714285]\n"
     ]
    },
    {
     "data": {
      "image/png": "[encoded data removed]",
      "text/plain": [
       "<matplotlib.figure.Figure at 0x21964ed3b38>"
      ]
     },
     "metadata": {},
     "output_type": "display_data"
    },
    {
     "data": {
      "text/plain": [
       "(0.66142857142857148, 0.66666666666666663)"
      ]
     },
     "execution_count": 14,
     "metadata": {},
     "output_type": "execute_result"
    }
   ],
   "source": [
    "graph_erreur(c_tests, c_apps, c_mods, c_preds, nb_class, 10,  0.0001, 200, \"-c\", \"-t 2\")"
   ]
  },
  {
   "cell_type": "code",
   "execution_count": 15,
   "metadata": {
    "collapsed": false
   },
   "outputs": [
    {
     "name": "stdout",
     "output_type": "stream",
     "text": [
      "\n",
      "-c 0.01\n",
      "train du label  1 score  [0.6428571428571429, 0.6412698412698413, 0.6396825396825396, 0.6523809523809524, 0.6476190476190476, 0.6412698412698413, 0.6428571428571429, 0.6365079365079365, 0.6492063492063492, 0.6492063492063492]\n",
      "test du label  1 score  [0.6571428571428571, 0.6714285714285714, 0.6857142857142857, 0.5714285714285714, 0.6142857142857143, 0.6714285714285714, 0.6571428571428571, 0.7142857142857143, 0.6, 0.6]\n",
      "train du label  2 score  [0.6904761904761905, 0.692063492063492, 0.6968253968253968, 0.6873015873015873, 0.6904761904761905, 0.7015873015873015, 0.6952380952380952, 0.7095238095238096, 0.6825396825396826, 0.6968253968253968]\n",
      "test du label  2 score  [0.7285714285714285, 0.7142857142857143, 0.6714285714285714, 0.7571428571428571, 0.7285714285714285, 0.6285714285714286, 0.6857142857142857, 0.5571428571428572, 0.8, 0.6714285714285714]\n",
      "train du label  3 score  [0.6666666666666666, 0.6666666666666666, 0.6634920634920635, 0.6603174603174603, 0.6619047619047619, 0.6571428571428571, 0.6619047619047619, 0.653968253968254, 0.6682539682539682, 0.653968253968254]\n",
      "test du label  3 score  [0.6142857142857143, 0.6142857142857143, 0.6428571428571429, 0.6714285714285714, 0.6571428571428571, 0.7, 0.6571428571428571, 0.7285714285714285, 0.6, 0.7285714285714285]\n"
     ]
    },
    {
     "data": {
      "image/png": "[encoded data removed]",
      "text/plain": [
       "<matplotlib.figure.Figure at 0x21965f4ca20>"
      ]
     },
     "metadata": {},
     "output_type": "display_data"
    },
    {
     "data": {
      "text/plain": [
       "(0.66142857142857148, 0.66666666666666663)"
      ]
     },
     "execution_count": 15,
     "metadata": {},
     "output_type": "execute_result"
    }
   ],
   "source": [
    "graph_erreur(c_tests, c_apps, c_mods, c_preds, nb_class, 10,  0.0001, 10000, \"-c\", \"-t 3\")"
   ]
  }
 ],
 "metadata": {
  "anaconda-cloud": {},
  "kernelspec": {
   "display_name": "Python 3",
   "language": "python",
   "name": "python3"
  },
  "language_info": {
   "codemirror_mode": {
    "name": "ipython",
    "version": 3
   },
   "file_extension": ".py",
   "mimetype": "text/x-python",
   "name": "python",
   "nbconvert_exporter": "python",
   "pygments_lexer": "ipython3",
   "version": "3.6.1"
  }
 },
 "nbformat": 4,
 "nbformat_minor": 2
}
