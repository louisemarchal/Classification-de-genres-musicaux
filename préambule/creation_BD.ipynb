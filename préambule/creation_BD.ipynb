{
 "cells": [
  {
   "cell_type": "markdown",
   "metadata": {},
   "source": [
    "# Création de la base de données test"
   ]
  },
  {
   "cell_type": "markdown",
   "metadata": {},
   "source": [
    "Relancer le kernel à chaque éxécution de ce fichier"
   ]
  },
  {
   "cell_type": "code",
   "execution_count": 1,
   "metadata": {
    "collapsed": true
   },
   "outputs": [],
   "source": [
    "import random\n",
    "import numpy as np\n",
    "import os\n",
    "import shutil"
   ]
  },
  {
   "cell_type": "code",
   "execution_count": 2,
   "metadata": {
    "collapsed": false
   },
   "outputs": [],
   "source": [
    "shutil.rmtree(\"BD/apprentissage\")\n",
    "shutil.rmtree(\"BD/test\")\n",
    "shutil.rmtree(\"BD/modele\")\n",
    "shutil.rmtree(\"BD/prediction\")\n",
    "\n",
    "os.makedirs(\"BD/apprentissage\")\n",
    "os.makedirs(\"BD/test\")\n",
    "os.makedirs(\"BD/modele\")\n",
    "os.makedirs(\"BD/prediction\")"
   ]
  },
  {
   "cell_type": "markdown",
   "metadata": {},
   "source": [
    "Ce document va nous permettre de créer une base de test pour paramétrer les fonctions que nous allons utiliser"
   ]
  },
  {
   "cell_type": "code",
   "execution_count": 3,
   "metadata": {
    "collapsed": true
   },
   "outputs": [],
   "source": [
    "\"\"\"variables d'initialisation\"\"\"\n",
    "nb_genre = 3\n",
    "nb_ville = 5\n",
    "nb_album = 700\n",
    "tps_obs = 100\n",
    "nb_block = 10 #nécessaire pour la cross validation\n",
    "sig = 10 #valeur permettant de faire varier le bruit"
   ]
  },
  {
   "cell_type": "markdown",
   "metadata": {},
   "source": [
    "#### Réalisation des matrices de transformations"
   ]
  },
  {
   "cell_type": "markdown",
   "metadata": {},
   "source": [
    "Les matrices de transformations vont nous permettre de creer des vecteurs pour chaque temps de chaque albums en fonction du genre de l'album. On regroupe toutes les matrices de transformation sous un tableau nommé \"mats\" à 3 dimensions."
   ]
  },
  {
   "cell_type": "code",
   "execution_count": 4,
   "metadata": {
    "collapsed": true
   },
   "outputs": [],
   "source": [
    "def matrice_transfo(k):\n",
    "    \"\"\"int -> [float*float]\n",
    "       k est le nombre de villes\n",
    "       retourne une matrice de transformation\"\"\"\n",
    "    mat = np.zeros((k,k))\n",
    "    for i in range(k):\n",
    "        for j in range(k):\n",
    "            mat[i][j] = random.uniform(-0.2, 0.2)\n",
    "    return mat"
   ]
  },
  {
   "cell_type": "code",
   "execution_count": 5,
   "metadata": {
    "collapsed": true
   },
   "outputs": [],
   "source": [
    "def creation_matrice_transfo(ng, k):\n",
    "    \"\"\"ng est le nombre de genres\n",
    "       k est le nombre de villes\n",
    "       retourne l'ensemble des matrices de transformations\"\"\"\n",
    "    mats = []\n",
    "    for i in range(ng):\n",
    "        mats.append(matrice_transfo(k))\n",
    "    return np.array(mats)"
   ]
  },
  {
   "cell_type": "code",
   "execution_count": 6,
   "metadata": {
    "collapsed": false
   },
   "outputs": [],
   "source": [
    "mats = creation_matrice_transfo(nb_genre, nb_ville)"
   ]
  },
  {
   "cell_type": "markdown",
   "metadata": {},
   "source": [
    "#### Réalisation de notre réprtoire d'albums"
   ]
  },
  {
   "cell_type": "markdown",
   "metadata": {},
   "source": [
    "On commence par créer des vecteurs initiaux différents pour chaque genre d'album. Ce vecteur représente la répartition au temps 0 pour chaque ville."
   ]
  },
  {
   "cell_type": "code",
   "execution_count": 7,
   "metadata": {
    "collapsed": false
   },
   "outputs": [],
   "source": [
    "def init_vecteur(k, tobs, genre, mats):\n",
    "    \"\"\"int*int -> [float*float]\n",
    "       k est le nombre de villes\n",
    "       tobs est le temps durant lequel on observe la diffusion\n",
    "       genre est le type de musique de l'album\n",
    "       mats est la matrice qui contient les matrices de transformation\n",
    "       retourne une matrice contenant tous les vecteurs aux différents temps 'tobs' pour l'album 'a'\n",
    "       (seul le vecteur au temps tobs=0 est remplit)\"\"\"\n",
    "    v = np.zeros((tobs,k))\n",
    "    mu = np.dot(np.ones(k), mats[genre-1])\n",
    "    v[0] = np.random.normal(mu,sig,k)\n",
    "    #on supprime les valeurs négatives\n",
    "    v[0][v[0]<0] = 0\n",
    "    return v"
   ]
  },
  {
   "cell_type": "markdown",
   "metadata": {},
   "source": [
    "On créer un repertoire qui contient tous les albums à chaque temps et pour chaque ville."
   ]
  },
  {
   "cell_type": "code",
   "execution_count": 8,
   "metadata": {
    "collapsed": true
   },
   "outputs": [],
   "source": [
    "def init_repertoire(a, k, tobs, mats, nb_genre):\n",
    "    \"\"\"int*int*int -> [float*float*float]*[int]\n",
    "        a est le nombre d'albums\n",
    "        k est le nombre de villes\n",
    "        tobs est le temps durant lequel on observe la diffusion\n",
    "        mats est la matrice qui contient les matrices de transformation\n",
    "        nb_genre : nombre de label\n",
    "        retourne un répertoire d'albums ainsi qu'un vecteur correspondant aux labels\"\"\"\n",
    "    rep = []\n",
    "    label = []\n",
    "    for i in range(a):\n",
    "        label.append(random.randrange(1,nb_genre+1))\n",
    "        rep.append(init_vecteur(k, tobs, label[i], mats))\n",
    "    return np.array(rep), np.array(label)"
   ]
  },
  {
   "cell_type": "code",
   "execution_count": 9,
   "metadata": {
    "collapsed": false
   },
   "outputs": [],
   "source": [
    "repertoire, labels = init_repertoire(nb_album, nb_ville, tps_obs, mats, nb_genre)"
   ]
  },
  {
   "cell_type": "markdown",
   "metadata": {},
   "source": [
    "#### Remplissage du répertoire grâce aux matrices de transformations et à la loi normale"
   ]
  },
  {
   "cell_type": "markdown",
   "metadata": {},
   "source": [
    "On applique la matrice de transformation associée au genre d'un album sur chaque temps pour obtenir le vecteur correspondant au temps t+1."
   ]
  },
  {
   "cell_type": "code",
   "execution_count": 10,
   "metadata": {
    "collapsed": true
   },
   "outputs": [],
   "source": [
    "def transfo(v, mat):\n",
    "    \"\"\"[float]*[float*float] -> [float]\n",
    "        v est un vecteur à un temps t\n",
    "        mat est la matrice de transformation associé au label de ce vecteur\n",
    "        retourne un nouveau vecteur au temps t+1\"\"\"\n",
    "    mu = np.dot(v,mat)\n",
    "    nv = np.random.normal(mu, sig)\n",
    "    nv[nv<0] = 0\n",
    "    return nv"
   ]
  },
  {
   "cell_type": "code",
   "execution_count": 11,
   "metadata": {
    "collapsed": true
   },
   "outputs": [],
   "source": [
    "def all_transfo(rep, labels, mats):\n",
    "    \"\"\"[float*float*flaot]*[float]*[float*float*float] -> [float*float*float]\n",
    "       rep est un répertoire d'album\n",
    "       labels est le tableau des labels associés aux albums\n",
    "       mats est l'ensemble des matrices de transformations pour chaque genre de musique\n",
    "       retourne un nouveau répertoire remplit pour chaque temps et chaque album\"\"\"\n",
    "    #pour chaque album\n",
    "    for ai in range(len(rep)):\n",
    "        #pour chaque pas de temps\n",
    "        for ti in range(1,len(rep[ai])):\n",
    "            rep[ai][ti] = transfo(rep[ai][ti-1], mats[labels[ai]-1])\n",
    "    return rep"
   ]
  },
  {
   "cell_type": "code",
   "execution_count": 12,
   "metadata": {
    "collapsed": false
   },
   "outputs": [],
   "source": [
    "repertoire = all_transfo(repertoire, labels, mats)"
   ]
  },
  {
   "cell_type": "markdown",
   "metadata": {},
   "source": [
    "#### Creation des fichiers lisible par SVM light"
   ]
  },
  {
   "cell_type": "markdown",
   "metadata": {},
   "source": [
    "##### * Ecriture"
   ]
  },
  {
   "cell_type": "code",
   "execution_count": 13,
   "metadata": {
    "collapsed": false
   },
   "outputs": [],
   "source": [
    "def ecriture_fichier(nom_fichier, repertoire, labels):\n",
    "    \"\"\"créé un fichier au format lisible par SVM light -> -1 1:0.43 3:0.12 9284:0.2 # abcdef\n",
    "       dimension 1 : ville 1 au temps 1\n",
    "       dimension 2 : ville 2 au temps 1\n",
    "       ...\n",
    "       dimension x : ville 1 au temps 2\n",
    "       ...\n",
    "       \"\"\"\n",
    "    fichier = open(nom_fichier, \"w\")\n",
    "    tmp = \"\"\n",
    "    for ai in range(len(repertoire)):\n",
    "        dim = 1\n",
    "        tmp = str(labels[ai])\n",
    "        for ti in range(len(repertoire[ai])):\n",
    "            for vi in range(len(repertoire[ai][ti])):\n",
    "                tmp += \" \"+str(dim)+\":\"+str(repertoire[ai][ti][vi])\n",
    "                dim += 1\n",
    "        fichier.write(tmp+\"\\n\")\n",
    "        \"\"\"if(ai!=len(repertoire)-1):\n",
    "            fichier.write(tmp+\"\\n\")\n",
    "        else:\n",
    "            fichier.write(tmp)\"\"\""
   ]
  },
  {
   "cell_type": "markdown",
   "metadata": {},
   "source": [
    "##### * Cross Validation"
   ]
  },
  {
   "cell_type": "code",
   "execution_count": 14,
   "metadata": {
    "collapsed": true
   },
   "outputs": [],
   "source": [
    "def separation(repertoire, labels, nb_block):\n",
    "    \"\"\"nb_block : nombre de bloks à créer à partir de notre repertoire\n",
    "    fonction qui sépare le repertoire et les labels en 's' blocks\"\"\"\n",
    "    liste_rep = []\n",
    "    liste_labels = []\n",
    "    s = len(repertoire)//nb_block\n",
    "    \n",
    "    for i in range(0,len(repertoire)-s+1, s):\n",
    "        liste_rep.append(repertoire[i:i+s])\n",
    "        liste_labels.append(labels[i:i+s])\n",
    "    return liste_rep, liste_labels"
   ]
  },
  {
   "cell_type": "code",
   "execution_count": 15,
   "metadata": {
    "collapsed": true
   },
   "outputs": [],
   "source": [
    "def cross_validation(repertoire_block, labels_block):\n",
    "    \"\"\"repertoire_block : repertoire d'albums séparés en block\n",
    "       labels_block : labels séparés en block associés à repertoire_block\n",
    "       Fonction qui génére un ensemble de fichiers de tests et d'apprentissages sur le principe d'une cross validation\"\"\"\n",
    "    for i in range(len(repertoire_block)):\n",
    "        ecriture_fichier(\"BD/test/test\"+str(i)+\".txt\", repertoire_block[i], labels_block[i])\n",
    "        repertoire_appr = []\n",
    "        labels_appr = []\n",
    "        for j in range(len(repertoire_block)):\n",
    "            if(i!=j):\n",
    "                for k in range(len(repertoire_block[j])):\n",
    "                    repertoire_appr.append(repertoire_block[j][k])\n",
    "                    labels_appr.append(labels_block[j][k])\n",
    "        ecriture_fichier(\"BD/apprentissage/apprentissage\"+str(i)+\".txt\", repertoire_appr, labels_appr)"
   ]
  },
  {
   "cell_type": "code",
   "execution_count": 16,
   "metadata": {
    "collapsed": true
   },
   "outputs": [],
   "source": [
    "def creation_fichiers(repertoire, labels, s):\n",
    "    \"\"\"s : le nombre de block\n",
    "       fonction créée l'ensemble des fichiers d'apprentissages et de tests\"\"\"\n",
    "    rep, lab = separation(repertoire, labels, s)\n",
    "    cross_validation(rep, lab)"
   ]
  },
  {
   "cell_type": "code",
   "execution_count": 17,
   "metadata": {
    "collapsed": false
   },
   "outputs": [],
   "source": [
    "creation_fichiers(repertoire, labels, nb_block)"
   ]
  }
 ],
 "metadata": {
  "anaconda-cloud": {},
  "kernelspec": {
   "display_name": "Python 3",
   "language": "python",
   "name": "python3"
  },
  "language_info": {
   "codemirror_mode": {
    "name": "ipython",
    "version": 3
   },
   "file_extension": ".py",
   "mimetype": "text/x-python",
   "name": "python",
   "nbconvert_exporter": "python",
   "pygments_lexer": "ipython3",
   "version": "3.6.1"
  }
 },
 "nbformat": 4,
 "nbformat_minor": 2
}
